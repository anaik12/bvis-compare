{
 "cells": [
  {
   "cell_type": "code",
   "execution_count": null,
   "metadata": {},
   "outputs": [],
   "source": [
    "import csv\n",
    "\n",
    "with open('time_courses.csv', newline='') as csvfile:\n",
    "    mytimereader = csv.reader(csvfile, delimiter=' ', quotechar='|')\n",
    "    for row in mytimereader:\n",
    "        #print(', '.join(row))\n",
    "        print(row)"
   ]
  },
  {
   "cell_type": "code",
   "execution_count": null,
   "metadata": {},
   "outputs": [],
   "source": [
    "from scipy import signal\n",
    "import matplotlib.pyplot as plt\n",
    "\n",
    "b, a = signal.cheby1(4, 5, 100, 'low', analog=True)\n",
    "w, h = signal.freqs(b, a)\n",
    "plt.semilogx(w, 20 * np.log10(abs(h)))"
   ]
  },
  {
   "cell_type": "code",
   "execution_count": null,
   "metadata": {},
   "outputs": [],
   "source": [
    "import plotly\n",
    "\n",
    "plotly.tools.set_credentials_file(username='anaik3', api_key='gLxCs7enXqEtPnH5DKz6')"
   ]
  },
  {
   "cell_type": "code",
   "execution_count": 2,
   "metadata": {},
   "outputs": [],
   "source": [
    "import plotly.plotly as py\n",
    "import plotly.graph_objs as go\n",
    "import plotly.figure_factory as ff\n",
    "\n",
    "import numpy as np\n",
    "import pandas as pd\n",
    "import scipy\n",
    "\n",
    "from scipy import signal"
   ]
  },
  {
   "cell_type": "code",
   "execution_count": 3,
   "metadata": {},
   "outputs": [
    {
     "name": "stdout",
     "output_type": "stream",
     "text": [
      "High five! You successfully sent some data to your account on plotly. View your plot in your browser at https://plot.ly/~anaik3/0 or inside your plot.ly account where it is named 'wind-data-sample'\n"
     ]
    },
    {
     "name": "stderr",
     "output_type": "stream",
     "text": [
      "C:\\Users\\ashwi\\Anaconda3\\lib\\site-packages\\IPython\\core\\display.py:689: UserWarning:\n",
      "\n",
      "Consider using IPython.display.IFrame instead\n",
      "\n"
     ]
    },
    {
     "data": {
      "text/html": [
       "<iframe id=\"igraph\" scrolling=\"no\" style=\"border:none;\" seamless=\"seamless\" src=\"https://plot.ly/~anaik3/0.embed\" height=\"380px\" width=\"100%\"></iframe>"
      ],
      "text/plain": [
       "<chart_studio.tools.PlotlyDisplay object>"
      ]
     },
     "execution_count": 3,
     "metadata": {},
     "output_type": "execute_result"
    }
   ],
   "source": [
    "data = pd.read_csv('time_courses1.csv')\n",
    "df = data[0:10]\n",
    "\n",
    "# print(df)\n",
    "\n",
    "table = ff.create_table(df)\n",
    "py.iplot(table, filename='wind-data-sample')"
   ]
  },
  {
   "cell_type": "code",
   "execution_count": 127,
   "metadata": {},
   "outputs": [
    {
     "data": {
      "text/html": [
       "<iframe id=\"igraph\" scrolling=\"no\" style=\"border:none;\" seamless=\"seamless\" src=\"https://plot.ly/~anaik3/6.embed\" height=\"525px\" width=\"100%\"></iframe>"
      ],
      "text/plain": [
       "<chart_studio.tools.PlotlyDisplay object>"
      ]
     },
     "execution_count": 127,
     "metadata": {},
     "output_type": "execute_result"
    }
   ],
   "source": [
    "cell_y_axis = [None] * 14500\n",
    "\n",
    "for i in range(0, 14000):\n",
    "    cell_y_axis[i] = i\n",
    "    \n",
    "\n",
    "trace1 = go.Scatter(\n",
    "    x=list(range(len(list(data['cell1'])))),\n",
    "    y=list(data['cell1']),\n",
    "    mode='lines',\n",
    "    name='cell1 Data'\n",
    ")\n",
    "\n",
    "trace2 = go.Scatter(\n",
    "    x=list(range(len(list(data['cell2'])))),\n",
    "    y=list(data['cell2']),\n",
    "    mode='lines',\n",
    "    name='cell2 Data'\n",
    ")\n",
    "\n",
    "layout = go.Layout(\n",
    "    showlegend=True,\n",
    "    yaxis=dict(\n",
    "        range=[0, 14000]\n",
    "    )\n",
    ")\n",
    "\n",
    "trace_data = [trace1, trace2]\n",
    "fig = go.Figure(data=trace_data, layout=layout)\n",
    "py.iplot(fig, filename='cell1-raw-data')"
   ]
  },
  {
   "cell_type": "code",
   "execution_count": 123,
   "metadata": {},
   "outputs": [],
   "source": [
    "cell_y_axis = [None] * 14500\n",
    "\n",
    "for i in range(0, 14000):\n",
    "    cell_y_axis[i] = i\n",
    "\n"
   ]
  },
  {
   "cell_type": "code",
   "execution_count": 37,
   "metadata": {
    "scrolled": true
   },
   "outputs": [
    {
     "data": {
      "text/html": [
       "<iframe id=\"igraph\" scrolling=\"no\" style=\"border:none;\" seamless=\"seamless\" src=\"https://plot.ly/~anaik3/4.embed\" height=\"525px\" width=\"100%\"></iframe>"
      ],
      "text/plain": [
       "<chart_studio.tools.PlotlyDisplay object>"
      ]
     },
     "execution_count": 37,
     "metadata": {},
     "output_type": "execute_result"
    }
   ],
   "source": [
    "import csv \n",
    "\n",
    "fc = 6000\n",
    "b = 0.08\n",
    "N = int(np.ceil((4 / b)))\n",
    "if not N % 2: N += 1\n",
    "n = np.arange(N)\n",
    " \n",
    "sinc_func = np.sinc(2 * fc * (n - (N - 1) / 2.))\n",
    "window = 0.42 - 0.5 * np.cos(2 * np.pi * n / (N - 1)) + 0.08 * np.cos(4 * np.pi * n / (N - 1))\n",
    "sinc_func = sinc_func * window\n",
    "sinc_func = sinc_func / np.sum(sinc_func)\n",
    "\n",
    "# s = list(data['cell1'])\n",
    "# new_signal = np.convolve(s, sinc_func)\n",
    "d = {}\n",
    "# with open('modified_intensities.csv', 'w') as writeFile:\n",
    "\n",
    "for i in range(1,139):\n",
    "    cellname = \"cell\" + str(i)\n",
    "    signalname = \"signal\" + str(i)\n",
    "        #     listname = \"celllist\" + str(i)\n",
    "    listname = list(data[cellname])\n",
    "    signalname = np.convolve(listname, sinc_func)\n",
    "    d[\"signal\" + str(i)] = signalname\n",
    "#     print(signalname)\n",
    "# np.savetxt(\"my_output_file.csv\", d, delimiter=\",\")\n",
    "\n",
    "# with open('names.csv', 'w', newline='') as csvfile:\n",
    "# #  fieldnames = ['first_name', 'last_name']\n",
    "#     for i in range(1,139):\n",
    "#         signalname = \"signal\" + str(i)\n",
    "#         cellname = \"cell\" + str(i)\n",
    "#         writer = csv.DictWriter(csvfile, d[celnn])\n",
    "#         writer.writeheader()\n",
    "#         writer.writerow(d[signalname])\n",
    "#         writer = csv.writer(writeFile)\n",
    "#         writer.writerows(signalname)\n",
    "# writeFile.close()\n",
    "# s2 = list(data['cell2'])\n",
    "# new_signal2 = np.convolve(s2, sinc_func)\n",
    "# print(d)\n",
    "\n",
    "# w = csv.writer(open(\"modified_intensities.csv\", \"w\"))\n",
    "# for key, val in d.items():\n",
    "#     w.writerow([val])\n",
    "\n",
    "# w.close()\n",
    "\n",
    "trace1 = go.Scatter(\n",
    "    x=list(range(len(d[\"signal1\"]))),\n",
    "    y=d[\"signal1\"],\n",
    "    mode='lines',\n",
    "    name='Low-Pass Filter1',\n",
    "    marker=dict(\n",
    "        color='#C54C82'\n",
    "    )\n",
    ")\n",
    "\n",
    "trace2 = go.Scatter(\n",
    "    x=list(range(len(d[\"signal2\"]))),\n",
    "    y=d[\"signal2\"],\n",
    "    mode='lines',\n",
    "    name='Low-Pass Filter2',\n",
    "    marker=dict(\n",
    "        color='#3338FF'\n",
    "    )\n",
    ")\n",
    "\n",
    "layout = go.Layout(\n",
    "    title='Low-Pass Filter',\n",
    "    showlegend=True\n",
    ")\n",
    "\n",
    "trace_data = [trace1,trace2]\n",
    "fig = go.Figure(data=trace_data, layout=layout)\n",
    "py.iplot(fig, filename='fft-low-pass-filter')"
   ]
  },
  {
   "cell_type": "code",
   "execution_count": 69,
   "metadata": {},
   "outputs": [
    {
     "data": {
      "text/html": [
       "<iframe id=\"igraph\" scrolling=\"no\" style=\"border:none;\" seamless=\"seamless\" src=\"https://plot.ly/~anaik3/8.embed\" height=\"525px\" width=\"100%\"></iframe>"
      ],
      "text/plain": [
       "<chart_studio.tools.PlotlyDisplay object>"
      ]
     },
     "execution_count": 69,
     "metadata": {},
     "output_type": "execute_result"
    }
   ],
   "source": [
    "from numpy.fft import fft, fftshift\n",
    "\n",
    "\n",
    "fL = 9000\n",
    "fH = 12000\n",
    "b = 0.08\n",
    "N = int(np.ceil((8 / b)))\n",
    "if not N % 2: N += 1  # Make sure that N is odd.\n",
    "n = np.arange(N)\n",
    "# n = np.hamming(N)\n",
    "# n = np.hanning(N)\n",
    " \n",
    "# low-pass filter\n",
    "hlpf = np.sinc(2 * fH * (n - (N - 1) / 2.))\n",
    "hlpf *= np.blackman(N)\n",
    "hlpf = hlpf / np.sum(hlpf)\n",
    " \n",
    "# high-pass filter \n",
    "hhpf = np.sinc(2 * fL * (n - (N - 1) / 2.))\n",
    "hhpf *= np.blackman(N)\n",
    "hhpf = hhpf / np.sum(hhpf)\n",
    "hhpf = -hhpf\n",
    "hhpf[int((N - 1) / 2)] += 1\n",
    " \n",
    "h = np.convolve(hlpf, hhpf)\n",
    "s = list(data['cell1'])\n",
    "new_signal = np.convolve(s, h)\n",
    "\n",
    "s2 = list(data['cell2'])\n",
    "new_signal2 = np.convolve(s2, h)\n",
    "\n",
    "trace1 = go.Scatter(\n",
    "    x=list(range(len(new_signal))),\n",
    "    y=new_signal,\n",
    "    mode='lines',\n",
    "    name='Band-Pass Filter Cell 1',\n",
    "    marker=dict(\n",
    "        color='#BB47BE'\n",
    "    )\n",
    ")\n",
    "\n",
    "trace2 = go.Scatter(\n",
    "    x=list(range(len(new_signal2))),\n",
    "    y=new_signal2,\n",
    "    mode='lines',\n",
    "    name='Band-Pass Filter Cell 2',\n",
    "    marker=dict(\n",
    "        color='#3338FF'\n",
    "    )\n",
    ")\n",
    "\n",
    "layout = go.Layout(\n",
    "    title='Band-Pass Filter',\n",
    "    showlegend=True\n",
    ")\n",
    "\n",
    "trace_data = [trace1, trace2]\n",
    "fig = go.Figure(data=trace_data, layout=layout)\n",
    "py.iplot(fig, filename='fft-band-pass-filter')"
   ]
  },
  {
   "cell_type": "code",
   "execution_count": 93,
   "metadata": {},
   "outputs": [
    {
     "name": "stdout",
     "output_type": "stream",
     "text": [
      "50\n",
      "[ 0  1  2  3  4  5  6  7  8  9 10 11 12 13 14 15 16 17 18 19 20 21 22 23\n",
      " 24 25 26 27 28 29 30 31 32 33 34 35 36 37 38 39 40 41 42 43 44 45 46 47\n",
      " 48 49 50]\n"
     ]
    },
    {
     "data": {
      "text/html": [
       "<iframe id=\"igraph\" scrolling=\"no\" style=\"border:none;\" seamless=\"seamless\" src=\"https://plot.ly/~anaik3/8.embed\" height=\"525px\" width=\"100%\"></iframe>"
      ],
      "text/plain": [
       "<chart_studio.tools.PlotlyDisplay object>"
      ]
     },
     "execution_count": 93,
     "metadata": {},
     "output_type": "execute_result"
    }
   ],
   "source": [
    "from numpy.fft import fft, fftshift\n",
    "\n",
    "window = np.hamming(51)\n",
    "# print(window)\n",
    "fL = 9000\n",
    "fH = 12000\n",
    "# b = window\n",
    "b = 0.08\n",
    "N = int(np.ceil((4 / b)))\n",
    "print(N)\n",
    "if not N % 2: N += 1  # Make sure that N is odd.\n",
    "n = np.arange(N)\n",
    "# n = np.hamming(1314)\n",
    "print(n)\n",
    "# n = np.hanning(N)\n",
    " \n",
    "# low-pass filter\n",
    "hlpf = np.sinc(2 * fH * (n - (N - 1) / 2.))\n",
    "hlpf *= np.blackman(N)\n",
    "# hlpf *= np.hamming(N)\n",
    "hlpf = hlpf / np.sum(hlpf)\n",
    " \n",
    "# high-pass filter \n",
    "hhpf = np.sinc(2 * fL * (n - (N - 1) / 2.))\n",
    "hhpf *= np.blackman(N)\n",
    "# hlpf *= np.hamming(N)\n",
    "hhpf = hhpf / np.sum(hhpf)\n",
    "hhpf = -hhpf\n",
    "hhpf[int((N - 1) / 2)] += 1\n",
    " \n",
    "h = np.convolve(hlpf, hhpf)\n",
    "# print(h)\n",
    "s = list(data['cell1'])\n",
    "new_signal = np.convolve(s, h)\n",
    "\n",
    "s2 = list(data['cell2'])\n",
    "new_signal2 = np.convolve(s2, h)\n",
    "\n",
    "trace1 = go.Scatter(\n",
    "    x=list(range(len(new_signal))),\n",
    "    y=new_signal,\n",
    "    mode='lines',\n",
    "    name='Band-Pass Filter Cell 1',\n",
    "    marker=dict(\n",
    "        color='#BB47BE'\n",
    "    )\n",
    ")\n",
    "\n",
    "trace2 = go.Scatter(\n",
    "    x=list(range(len(new_signal2))),\n",
    "    y=new_signal2,\n",
    "    mode='lines',\n",
    "    name='Band-Pass Filter Cell 2',\n",
    "    marker=dict(\n",
    "        color='#3338FF'\n",
    "    )\n",
    ")\n",
    "\n",
    "layout = go.Layout(\n",
    "    title='Band-Pass Filter - Hamming',\n",
    "    showlegend=True\n",
    ")\n",
    "\n",
    "trace_data = [trace1, trace2]\n",
    "fig = go.Figure(data=trace_data, layout=layout)\n",
    "py.iplot(fig, filename='fft-band-pass-filter')"
   ]
  },
  {
   "cell_type": "code",
   "execution_count": 97,
   "metadata": {},
   "outputs": [
    {
     "data": {
      "text/html": [
       "<iframe id=\"igraph\" scrolling=\"no\" style=\"border:none;\" seamless=\"seamless\" src=\"https://plot.ly/~anaik3/8.embed\" height=\"525px\" width=\"100%\"></iframe>"
      ],
      "text/plain": [
       "<chart_studio.tools.PlotlyDisplay object>"
      ]
     },
     "execution_count": 97,
     "metadata": {},
     "output_type": "execute_result"
    }
   ],
   "source": [
    "from numpy.fft import fft, fftshift\n",
    "\n",
    "fL = 0.1 #low frequency cutoff 0.1\n",
    "fH = 10.0 #high frequency cutoff \n",
    "b = 0.08 #transition rate\n",
    "N = int(np.ceil((8 / b)))\n",
    "if not N % 2: N += 1  # Make sure that N is odd.\n",
    "# n = np.arange(N)\n",
    "# n = np.hamming(N)\n",
    "n = np.hanning(N)\n",
    " \n",
    "# low-pass filter\n",
    "hlpf = np.sinc(2 * fH * (n - (N - 1) / 2.))\n",
    "hlpf *= np.blackman(N)\n",
    "hlpf = hlpf / np.sum(hlpf)\n",
    " \n",
    "# high-pass filter \n",
    "hhpf = np.sinc(2 * fL * (n - (N - 1) / 2.))\n",
    "hhpf *= np.blackman(N)\n",
    "hhpf = hhpf / np.sum(hhpf)\n",
    "hhpf = -hhpf\n",
    "hhpf[int((N - 1) / 2)] += 1\n",
    " \n",
    "h = np.convolve(hlpf, hhpf)\n",
    "s = list(data['cell1'])\n",
    "new_signal = np.convolve(s, h)\n",
    "\n",
    "s2 = list(data['cell2'])\n",
    "new_signal2 = np.convolve(s2, h)\n",
    "\n",
    "trace1 = go.Scatter(\n",
    "    x=list(range(len(new_signal))),\n",
    "    y=new_signal,\n",
    "    mode='lines',\n",
    "    name='Band-Pass Filter Cell 1',\n",
    "    marker=dict(\n",
    "        color='#BB47BE'\n",
    "    )\n",
    ")\n",
    "\n",
    "trace2 = go.Scatter(\n",
    "    x=list(range(len(new_signal2))),\n",
    "    y=new_signal2,\n",
    "    mode='lines',\n",
    "    name='Band-Pass Filter Cell 2',\n",
    "    marker=dict(\n",
    "        color='#3338FF'\n",
    "    )\n",
    ")\n",
    "\n",
    "layout = go.Layout(\n",
    "    title='Band-Pass Filter- Hanning',\n",
    "    showlegend=True\n",
    ")\n",
    "\n",
    "trace_data = [trace1, trace2]\n",
    "fig = go.Figure(data=trace_data, layout=layout)\n",
    "py.iplot(fig, filename='fft-band-pass-filter')"
   ]
  }
 ],
 "metadata": {
  "kernelspec": {
   "display_name": "Python 3",
   "language": "python",
   "name": "python3"
  },
  "language_info": {
   "codemirror_mode": {
    "name": "ipython",
    "version": 3
   },
   "file_extension": ".py",
   "mimetype": "text/x-python",
   "name": "python",
   "nbconvert_exporter": "python",
   "pygments_lexer": "ipython3",
   "version": "3.7.1"
  }
 },
 "nbformat": 4,
 "nbformat_minor": 2
}
