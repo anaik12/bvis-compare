{
 "cells": [
  {
   "cell_type": "code",
   "execution_count": 9,
   "metadata": {},
   "outputs": [],
   "source": [
    "import xlutils\n",
    "import xlrd \n",
    "import xlwt\n",
    "import sys\n",
    "\n",
    "# Give the location of the file \n",
    "loc = (\"time_courses.xlsx\") \n",
    "  \n",
    "# To open Workbook \n",
    "wb = xlrd.open_workbook(loc) \n",
    "sheet = wb.sheet_by_index(0) \n",
    "\n",
    "#print(sheet.nrows)\n",
    "#print(sheet.ncols)\n",
    "\n",
    "nrows = sheet.nrows\n",
    "ncols = sheet.ncols\n",
    "# print (range(nrows))\n",
    "# print (range(ncols))\n",
    "#for i in range(nrows): \n",
    "#    print(sheet.cell_value(i, 0)) \n",
    "\n",
    "# book = xlwt.Workbook()\n",
    "# sheet1 = book.add_sheet(\"intensitySheet1\")\n",
    "\n",
    "orig_stdout = sys.stdout\n",
    "f = open('intensity_1388_out.csv', 'w')\n",
    "sys.stdout = f\n",
    "\n",
    "# For row 0 and column 0 \n",
    "for i in range(1, 1389):\n",
    "#     print(\"i = {}\".format(i))\n",
    "    for j in range(0, 139):\n",
    "#          print(\"j = {}\".format(j))\n",
    "#          sheet1.write(i, j, sheet.cell_value(i, j))\n",
    "       print(sheet.cell_value(i, j) )\n",
    "# book.save(\"valuforintensity.xlsx\")           \n",
    "\n",
    "sys.stdout = orig_stdout\n",
    "f.close()"
   ]
  },
  {
   "cell_type": "code",
   "execution_count": 11,
   "metadata": {},
   "outputs": [
    {
     "ename": "TypeError",
     "evalue": "unsupported operand type(s) for +: 'int' and 'str'",
     "output_type": "error",
     "traceback": [
      "\u001b[1;31m---------------------------------------------------------------------------\u001b[0m",
      "\u001b[1;31mTypeError\u001b[0m                                 Traceback (most recent call last)",
      "\u001b[1;32m<ipython-input-11-f51b656ab907>\u001b[0m in \u001b[0;36m<module>\u001b[1;34m\u001b[0m\n\u001b[0;32m     26\u001b[0m \u001b[1;31m#          print(\"j = {}\".format(j))\u001b[0m\u001b[1;33m\u001b[0m\u001b[1;33m\u001b[0m\u001b[1;33m\u001b[0m\u001b[0m\n\u001b[0;32m     27\u001b[0m \u001b[1;31m#          sheet1.write(i, j, sheet.cell_value(i, j))\u001b[0m\u001b[1;33m\u001b[0m\u001b[1;33m\u001b[0m\u001b[1;33m\u001b[0m\u001b[0m\n\u001b[1;32m---> 28\u001b[1;33m        \u001b[0mprint\u001b[0m\u001b[1;33m(\u001b[0m\u001b[0mi\u001b[0m\u001b[1;33m+\u001b[0m\u001b[1;34m\"\\t\"\u001b[0m\u001b[1;33m+\u001b[0m\u001b[0msheet\u001b[0m\u001b[1;33m.\u001b[0m\u001b[0mcell_value\u001b[0m\u001b[1;33m(\u001b[0m\u001b[0mi\u001b[0m\u001b[1;33m,\u001b[0m \u001b[0mj\u001b[0m\u001b[1;33m)\u001b[0m \u001b[1;33m)\u001b[0m\u001b[1;33m\u001b[0m\u001b[1;33m\u001b[0m\u001b[0m\n\u001b[0m\u001b[0;32m     29\u001b[0m \u001b[1;31m# book.save(\"valuforintensity.xlsx\")\u001b[0m\u001b[1;33m\u001b[0m\u001b[1;33m\u001b[0m\u001b[1;33m\u001b[0m\u001b[0m\n\u001b[0;32m     30\u001b[0m \u001b[1;33m\u001b[0m\u001b[0m\n",
      "\u001b[1;31mTypeError\u001b[0m: unsupported operand type(s) for +: 'int' and 'str'"
     ]
    }
   ],
   "source": [
    "import xlutils\n",
    "import xlrd \n",
    "import sys\n",
    "\n",
    "# Give the location of the file \n",
    "loc = (\"time_courses.xlsx\") \n",
    "  \n",
    "# To open Workbook \n",
    "wb = xlrd.open_workbook(loc) \n",
    "sheet = wb.sheet_by_index(0) \n",
    "\n",
    "#print(sheet.nrows)\n",
    "#print(sheet.ncols)\n",
    "\n",
    "nrows = sheet.nrows\n",
    "ncols = sheet.ncols\n",
    "\n",
    "orig_stdout = sys.stdout\n",
    "f = open('intensity_1388_out_with_timestep2.csv', 'w')\n",
    "sys.stdout = f\n",
    "\n",
    "# For row 0 and column 0 \n",
    "for i in range(1, 1389):\n",
    "#     print(\"i = {}\".format(i))\n",
    "    for j in range(0, 139):\n",
    "#          print(\"j = {}\".format(j))\n",
    "#          sheet1.write(i, j, sheet.cell_value(i, j))\n",
    "       print(i,\"\\t\",sheet.cell_value(i, j) )\n",
    "# book.save(\"valuforintensity.xlsx\")           \n",
    "\n",
    "sys.stdout = orig_stdout\n",
    "f.close()"
   ]
  },
  {
   "cell_type": "code",
   "execution_count": null,
   "metadata": {},
   "outputs": [],
   "source": []
  }
 ],
 "metadata": {
  "kernelspec": {
   "display_name": "Python 3",
   "language": "python",
   "name": "python3"
  },
  "language_info": {
   "codemirror_mode": {
    "name": "ipython",
    "version": 3
   },
   "file_extension": ".py",
   "mimetype": "text/x-python",
   "name": "python",
   "nbconvert_exporter": "python",
   "pygments_lexer": "ipython3",
   "version": "3.7.1"
  }
 },
 "nbformat": 4,
 "nbformat_minor": 2
}
