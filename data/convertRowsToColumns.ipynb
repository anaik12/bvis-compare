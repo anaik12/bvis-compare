{
 "cells": [
  {
   "cell_type": "code",
   "execution_count": 1,
   "metadata": {},
   "outputs": [],
   "source": [
    "import xlutils\n",
    "import xlrd \n",
    "import xlwt\n",
    "import sys\n",
    "\n",
    "# Give the location of the file \n",
    "loc = (\"Filtered.brain.xlsx\") \n",
    "  \n",
    "# To open Workbook \n",
    "wb = xlrd.open_workbook(loc) \n",
    "sheet = wb.sheet_by_index(0) \n",
    "\n",
    "#print(sheet.nrows)\n",
    "#print(sheet.ncols)\n",
    "\n",
    "nrows = sheet.nrows\n",
    "ncols = sheet.ncols\n",
    "# print (range(nrows))\n",
    "# print (range(ncols))\n",
    "#for i in range(nrows): \n",
    "#    print(sheet.cell_value(i, 0)) \n",
    "\n",
    "# book = xlwt.Workbook()\n",
    "# sheet1 = book.add_sheet(\"intensitySheet1\")\n",
    "\n",
    "orig_stdout = sys.stdout\n",
    "f = open('filtered_1388_out.csv', 'w')\n",
    "sys.stdout = f\n",
    "\n",
    "# For row 0 and column 0 \n",
    "for i in range(1, 1389):\n",
    "#     print(\"i = {}\".format(i))\n",
    "    for j in range(0, 139):\n",
    "#          print(\"j = {}\".format(j))\n",
    "#          sheet1.write(i, j, sheet.cell_value(i, j))\n",
    "       print(sheet.cell_value(i, j) )\n",
    "# book.save(\"valuforintensity.xlsx\")           \n",
    "\n",
    "sys.stdout = orig_stdout\n",
    "f.close()"
   ]
  },
  {
   "cell_type": "markdown",
   "metadata": {},
   "source": [
    "#### import xlutils\n",
    "import xlrd \n",
    "import sys\n",
    "\n",
    "# Give the location of the file \n",
    "loc = (\"time_courses.xlsx\") \n",
    "  \n",
    "# To open Workbook \n",
    "wb = xlrd.open_workbook(loc) \n",
    "sheet = wb.sheet_by_index(0) \n",
    "\n",
    "#print(sheet.nrows)\n",
    "#print(sheet.ncols)\n",
    "\n",
    "nrows = sheet.nrows\n",
    "ncols = sheet.ncols\n",
    "\n",
    "orig_stdout = sys.stdout\n",
    "f = open('intensity_1388_out_with_timestep2.csv', 'w')\n",
    "sys.stdout = f\n",
    "\n",
    "# For row 0 and column 0 \n",
    "for i in range(1, 1389):\n",
    "#     print(\"i = {}\".format(i))\n",
    "    for j in range(0, 139):\n",
    "#          print(\"j = {}\".format(j))\n",
    "#          sheet1.write(i, j, sheet.cell_value(i, j))\n",
    "       print(i,\"\\t\",sheet.cell_value(i, j) )\n",
    "# book.save(\"valuforintensity.xlsx\")           \n",
    "\n",
    "sys.stdout = orig_stdout\n",
    "f.close()"
   ]
  },
  {
   "cell_type": "code",
   "execution_count": null,
   "metadata": {},
   "outputs": [],
   "source": []
  }
 ],
 "metadata": {
  "kernelspec": {
   "display_name": "Python 3",
   "language": "python",
   "name": "python3"
  },
  "language_info": {
   "codemirror_mode": {
    "name": "ipython",
    "version": 3
   },
   "file_extension": ".py",
   "mimetype": "text/x-python",
   "name": "python",
   "nbconvert_exporter": "python",
   "pygments_lexer": "ipython3",
   "version": "3.7.1"
  }
 },
 "nbformat": 4,
 "nbformat_minor": 2
}
